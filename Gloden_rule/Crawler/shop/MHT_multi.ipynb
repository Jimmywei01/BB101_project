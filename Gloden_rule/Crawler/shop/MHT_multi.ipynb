{
 "cells": [
  {
   "cell_type": "code",
   "execution_count": 8,
   "metadata": {
    "collapsed": true
   },
   "outputs": [],
   "source": [
    "import requests as r\n",
    "from bs4 import BeautifulSoup\n",
    "import re\n",
    "from time import gmtime, strftime\n",
    "import multiprocessing\n",
    "import time\n",
    "from multiprocessing import Pool, Lock"
   ]
  },
  {
   "cell_type": "code",
   "execution_count": 9,
   "metadata": {
    "collapsed": true
   },
   "outputs": [],
   "source": [
    "url='https://tw.mall.yahoo.com/search?m=list&sid=mht&s=-createtime&view=both&b=0'\n",
    "res = r.get(url)\n",
    "soup = BeautifulSoup(res.text,'lxml')"
   ]
  },
  {
   "cell_type": "code",
   "execution_count": 10,
   "metadata": {
    "collapsed": true
   },
   "outputs": [],
   "source": [
    "def mft(link):\n",
    "    res = r.get(link)\n",
    "    time.sleep(0.01)\n",
    "    soup = BeautifulSoup(res.text,'lxml')\n",
    "    name = soup.select_one('div > h1 > span') #商品名稱\n",
    "    price = soup.select_one('div > span.price')\n",
    "    current_time = strftime(\"%Y-%m-%d %H:%M:%S\",gmtime()) #爬下商品時間\n",
    "    store = '美華泰'\n",
    "    fee = 100 #運費\n",
    "    a = soup.select('div.left > ul > li') #銷售數量\n",
    "    try:\n",
    "        sell = a[3].text\n",
    "    except:\n",
    "        sell = a[2].text\n",
    "    data= '{},{},{},{},{},{},{}\\n'.format(store,current_time,name.text,price.text,link,fee,sell)\n",
    "    data.encode('utf-8')\n",
    "    product = data\n",
    "    #     print(products)\n",
    "    print('.', end=\"\")\n",
    "    #with lock:\n",
    "    with open ('mft.csv','a') as fw:\n",
    "        fw.write(product)\n",
    "        fw.close()\n",
    "\n",
    "        "
   ]
  },
  {
   "cell_type": "code",
   "execution_count": 11,
   "metadata": {
    "collapsed": false
   },
   "outputs": [
    {
     "name": "stdout",
     "output_type": "stream",
     "text": [
      "0\n",
      "48\n",
      "96\n",
      "144\n",
      "192\n",
      "240\n",
      "288\n",
      "336\n",
      "384\n",
      "432\n",
      "480\n",
      "528\n",
      "576\n",
      "624\n",
      "672\n",
      "720\n",
      "768\n",
      "816\n",
      "864\n",
      "912\n",
      "960\n",
      "1008\n",
      "1056\n",
      "1104\n",
      "1152\n",
      "1200\n",
      "1248\n",
      "1296\n",
      "1344\n",
      "1392\n",
      "1440\n",
      "1488\n",
      "1536\n",
      "1584\n",
      "................................................................................................................................................................................................................................................................................................................................................................................................................................................................................................................................................................................................................................................................................................................................................................................................................................................................................................................................................................................................................................................................................................................................................................................................................................................................................................................................................................................................................................................................................................................................................................................................................The end of pages is No.1584\n"
     ]
    }
   ],
   "source": [
    "\n",
    "all_links=[]\n",
    "for i in range(0,34): #33頁\n",
    "    page = i*48\n",
    "    res = r.get('https://tw.mall.yahoo.com/search?m=list&sid=mht&s=-createtime&view=both&b={}'.format(page))\n",
    "    soup = BeautifulSoup(res.text,'lxml')\n",
    "    links = soup.select('div > table > tbody > tr > td > a') # 一頁有48個網址\n",
    "    link_list = [link['href'] for link in links] # 把48個網址丟入link_list中\n",
    "    all_links += link_list # 把所有網址丟入all_links中(每一頁的所有網址 48*頁數 個網址)\n",
    "#     print('=', end=\"\")\n",
    "    print(page)\n",
    "\n",
    "\n",
    "pool = multiprocessing.Pool(processes=2)\n",
    "lock = multiprocessing.Manager().Lock()\n",
    "for link in all_links:\n",
    "#     print(link) \n",
    "#     mft(lock,link)\n",
    "    pool.apply_async(mft,(link,))\n",
    "    time.sleep(0.01)\n",
    "    #pool.apply_async(<def>, (lock,<link>, ))\n",
    "    \n",
    "pool.close()\n",
    "pool.join()\n",
    "print('The end of pages is No.%d' % (page))\n",
    "\n"
   ]
  },
  {
   "cell_type": "code",
   "execution_count": null,
   "metadata": {
    "collapsed": true
   },
   "outputs": [],
   "source": []
  }
 ],
 "metadata": {
  "anaconda-cloud": {},
  "kernelspec": {
   "display_name": "Python [default]",
   "language": "python",
   "name": "python3"
  },
  "language_info": {
   "codemirror_mode": {
    "name": "ipython",
    "version": 3
   },
   "file_extension": ".py",
   "mimetype": "text/x-python",
   "name": "python",
   "nbconvert_exporter": "python",
   "pygments_lexer": "ipython3",
   "version": "3.5.2"
  }
 },
 "nbformat": 4,
 "nbformat_minor": 2
}
