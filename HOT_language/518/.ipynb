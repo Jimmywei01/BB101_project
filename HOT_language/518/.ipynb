{
 "cells": [
  {
   "cell_type": "code",
   "execution_count": 1,
   "metadata": {
    "collapsed": true
   },
   "outputs": [],
   "source": [
    "import requests\n",
    "from bs4 import BeautifulSoup\n",
    "import re\n",
    "from collections import Counter      # counter (dict形式）\n",
    "import threading\n",
    "import time\n",
    "\n"
   ]
  },
  {
   "cell_type": "code",
   "execution_count": 2,
   "metadata": {
    "collapsed": true
   },
   "outputs": [],
   "source": [
    "#########  每個標題頁 def\n",
    "host = 'https://www.518.com.tw'\n",
    "links_al = []\n",
    "def getlink(i):\n",
    "    res = requests.get(host+'/job-index-P-'+str(i)+'.html?i=1&am=1&ab=2032001')    # '下一頁'組合\n",
    "    soup = BeautifulSoup(res.text,'lxml')\n",
    "    links = soup.select('li.title > a')                  # '標題頁'連結\n",
    "    for link in links :                                  # '標題頁'連結 取出\n",
    "            l = link['href']\n",
    "            links_al.append(l)\n"
   ]
  },
  {
   "cell_type": "code",
   "execution_count": 3,
   "metadata": {
    "collapsed": true
   },
   "outputs": [],
   "source": [
    "#########  每個標題頁thread\n",
    "class getlinkThread(threading.Thread):    \n",
    "    def __init__(self,link):\n",
    "        threading.Thread.__init__(self)\n",
    "        self.link = link\n",
    "    def run(self):\n",
    "        getlink(self.link)"
   ]
  },
  {
   "cell_type": "code",
   "execution_count": 4,
   "metadata": {
    "collapsed": true
   },
   "outputs": [],
   "source": [
    "######### 內文 def\n",
    "def getinner(inner):\n",
    "    \n",
    "    res = requests.get(inner)\n",
    "    soup = BeautifulSoup(res.text,'lxml')\n",
    "    try:\n",
    "        line1 = soup.select_one('div.JobDescription > p').text   # 工作內容 \n",
    "        line2 = soup.select_one('div.job-detail-box > dl').text  # 擅長工具\n",
    "        line3 = line1 + line2                                    # list 合併\n",
    "        up = line3.upper()                                       # 統一轉為大寫處理\n",
    "        line = re.findall('[A-Z]+[+#-C]*',\"%s\" %up)              # 找正規化後的字串\n",
    "        \n",
    "\n",
    "        line_c = []                       # 給他有一個排序的位置放\n",
    "        for line_check in line:           # 將'正規化'好的 line 放入自定義的 line_check\n",
    "            if line_check not in line_c:  # 將不再line_check 的英文單字放入line_c(為了不讓值重複)\n",
    "                line_c.append(line_check)\n",
    "\n",
    "                \n",
    "        for language in line_c :     # 把整理好的line_c 值取出到自定義的 language (list形式)\n",
    "            global wc                # 全域變數\n",
    "            if language in wc :      # 如果 lines 的東西有在 wc\n",
    "                wc[language] +=1     # wc  就+1\n",
    "#             else:                  # 取消是因為有自行建立字典會在裡面篩選\n",
    "#                 wc[lines] = 1      # 不然就初值為1\n",
    "      \n",
    "    except:\n",
    "        #print(url)              # print 出有問題的網頁\n",
    "        pass                     # 有些網頁有問題跳過所以pass  "
   ]
  },
  {
   "cell_type": "code",
   "execution_count": 5,
   "metadata": {
    "collapsed": true
   },
   "outputs": [],
   "source": [
    "######### 內文thread\n",
    "class getinnerThread(threading.Thread):\n",
    "    def __init__(self,inner):\n",
    "        threading.Thread.__init__(self)\n",
    "        self.inner = inner\n",
    "    def run(self):\n",
    "        getinner(self.inner)"
   ]
  },
  {
   "cell_type": "code",
   "execution_count": 6,
   "metadata": {
    "collapsed": false,
    "scrolled": false
   },
   "outputs": [
    {
     "data": {
      "text/plain": [
       "[('JAVA', 127),\n",
       " ('HTML', 121),\n",
       " ('PHP', 115),\n",
       " ('SQL', 107),\n",
       " ('JAVASCRIPT', 90),\n",
       " ('CSS', 87),\n",
       " ('C#', 68),\n",
       " ('C++', 36),\n",
       " ('C', 32),\n",
       " ('SWIFT', 12),\n",
       " ('PYTHON', 9),\n",
       " ('DELPHI', 5),\n",
       " ('R', 3),\n",
       " ('PERL', 3),\n",
       " ('GO', 2),\n",
       " ('RUBY', 2),\n",
       " ('SCALA', 1),\n",
       " ('TYPESCRIPT', 0),\n",
       " ('BASH', 0)]"
      ]
     },
     "execution_count": 6,
     "metadata": {},
     "output_type": "execute_result"
    }
   ],
   "source": [
    "wc = Counter()             # local variable 'wc' referenced before assignment  要注意區域變數問題！！！  不能放在迴圈\n",
    "wc[\"C\"]=0                  # 自行建立字典過濾非必要的單字\n",
    "wc[\"C++\"]=0\n",
    "wc[\"C#\"]=0\n",
    "wc[\"PYTHON\"]=0\n",
    "wc[\"JAVA\"]=0\n",
    "wc[\"JAVASCRIPT\"]=0\n",
    "wc[\"PHP\"]=0\n",
    "wc[\"HTML\"]=0\n",
    "wc[\"SQL\"]=0\n",
    "wc[\"CSS\"]=0\n",
    "wc[\"R\"]=0\n",
    "wc[\"CSS\"]=0\n",
    "wc[\"BASH\"]=0\n",
    "wc[\"RUBY\"]=0\n",
    "wc[\"PERL\"]=0\n",
    "wc[\"SCALA\"]=0\n",
    "wc[\"SWIFT\"]=0\n",
    "wc[\"GO\"]=0\n",
    "wc[\"DELPHI\"]=0\n",
    "wc[\"TYPESCRIPT\"]=0\n",
    "\n",
    "\n",
    "threads = []                        #標題頁\n",
    "for i in range(1,45):     \n",
    "    Thread = getlinkThread(i)       # 把rang頁數載入\n",
    "    threads.append(Thread)          # 裝到list裡面\n",
    "for i in threads:                   # 跑\n",
    "    i.start()\n",
    "    time.sleep(0.1)\n",
    "for i in threads:                   # 等 star 動作結束在繼續下一步\n",
    "    i.join()\n",
    "        \n",
    "threadinner = []        \n",
    "for inner in links_al:                 #  '標題頁'裡的內文\n",
    "    Thread = getinnerThread(inner)     # \n",
    "    threadinner.append(Thread)\n",
    "for i in threadinner:\n",
    "    i.start()\n",
    "    time.sleep(0.1)\n",
    "for i in threadinner:\n",
    "    i.join()\n",
    "    \n",
    "    \n",
    "    \n",
    "    \n",
    "    \n",
    "#     Thread.start()\n",
    "#     threadinner.append(Thread)\n",
    "#     time.sleep(0.1)\n",
    "# for p in threadinner:\n",
    "#     p.join()\n",
    "    \n",
    "wc.most_common()"
   ]
  },
  {
   "cell_type": "code",
   "execution_count": null,
   "metadata": {
    "collapsed": true
   },
   "outputs": [],
   "source": []
  },
  {
   "cell_type": "code",
   "execution_count": null,
   "metadata": {
    "collapsed": true
   },
   "outputs": [],
   "source": []
  }
 ],
 "metadata": {
  "anaconda-cloud": {},
  "kernelspec": {
   "display_name": "Python [default]",
   "language": "python",
   "name": "python3"
  },
  "language_info": {
   "codemirror_mode": {
    "name": "ipython",
    "version": 3
   },
   "file_extension": ".py",
   "mimetype": "text/x-python",
   "name": "python",
   "nbconvert_exporter": "python",
   "pygments_lexer": "ipython3",
   "version": "3.5.2"
  }
 },
 "nbformat": 4,
 "nbformat_minor": 2
}
